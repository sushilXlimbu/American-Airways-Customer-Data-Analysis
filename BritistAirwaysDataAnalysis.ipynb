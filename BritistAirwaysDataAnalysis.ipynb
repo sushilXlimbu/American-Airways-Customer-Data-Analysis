{
 "cells": [
  {
   "cell_type": "code",
   "execution_count": 2,
   "id": "8e720832-cffd-473f-a18b-17bd99e30c90",
   "metadata": {},
   "outputs": [],
   "source": [
    "import pandas as pd\n",
    "import numpy as np\n",
    "import requests\n",
    "from bs4 import BeautifulSoup"
   ]
  },
  {
   "cell_type": "code",
   "execution_count": 3,
   "id": "c0d60279-bb7b-448a-80f2-563b43c206a6",
   "metadata": {},
   "outputs": [
    {
     "name": "stdout",
     "output_type": "stream",
     "text": [
      "Scraping page 1\n",
      "       ---->100 total reviews\n",
      "Scraping page 2\n",
      "       ---->200 total reviews\n",
      "Scraping page 3\n",
      "       ---->300 total reviews\n",
      "Scraping page 4\n",
      "       ---->400 total reviews\n",
      "Scraping page 5\n",
      "       ---->500 total reviews\n",
      "Scraping page 6\n",
      "       ---->600 total reviews\n",
      "Scraping page 7\n",
      "       ---->700 total reviews\n",
      "Scraping page 8\n",
      "       ---->800 total reviews\n",
      "Scraping page 9\n",
      "       ---->900 total reviews\n",
      "Scraping page 10\n",
      "       ---->1000 total reviews\n"
     ]
    }
   ],
   "source": [
    "base_url = \"https://www.airlinequality.com/airline-reviews/american-airlines\"\n",
    "pages = 10\n",
    "page_size = 100\n",
    "reviews = []\n",
    "\n",
    "for i in range(1, pages+1):\n",
    "    print(f\"Scraping page {i}\")\n",
    "    \n",
    "    # Create URL to collect links from paginated data\n",
    "    url = f\"{base_url}/page/{i}/?sortby=post_date%3ADesc&pagesize={page_size}\"\n",
    "    # Collect HTML data from this page\n",
    "    response = requests.get(url)\n",
    "    #Prase Content\n",
    "    content = response.content\n",
    "    prased_content = BeautifulSoup(content, 'html.parser')\n",
    "    for para in prased_content.find_all(\"div\",{\"class\":\"text_content\"}):\n",
    "         reviews.append(para.get_text())\n",
    "\n",
    "    print(f\"       ---->{len(reviews)} total reviews\")\n",
    "           \n",
    "        "
   ]
  },
  {
   "cell_type": "code",
   "execution_count": 4,
   "id": "82a0fbb3-dd2e-4d8f-a8e1-3990e5a6888e",
   "metadata": {},
   "outputs": [
    {
     "data": {
      "text/html": [
       "<div>\n",
       "<style scoped>\n",
       "    .dataframe tbody tr th:only-of-type {\n",
       "        vertical-align: middle;\n",
       "    }\n",
       "\n",
       "    .dataframe tbody tr th {\n",
       "        vertical-align: top;\n",
       "    }\n",
       "\n",
       "    .dataframe thead th {\n",
       "        text-align: right;\n",
       "    }\n",
       "</style>\n",
       "<table border=\"1\" class=\"dataframe\">\n",
       "  <thead>\n",
       "    <tr style=\"text-align: right;\">\n",
       "      <th></th>\n",
       "      <th>reviews</th>\n",
       "    </tr>\n",
       "  </thead>\n",
       "  <tbody>\n",
       "    <tr>\n",
       "      <th>0</th>\n",
       "      <td>Not Verified |  With Newark Airport experienci...</td>\n",
       "    </tr>\n",
       "    <tr>\n",
       "      <th>1</th>\n",
       "      <td>Not Verified |  Absolutely unacceptable experi...</td>\n",
       "    </tr>\n",
       "    <tr>\n",
       "      <th>2</th>\n",
       "      <td>Not Verified |  First delay happened in Arkans...</td>\n",
       "    </tr>\n",
       "    <tr>\n",
       "      <th>3</th>\n",
       "      <td>✅ Trip Verified |   I was desperate to get to ...</td>\n",
       "    </tr>\n",
       "    <tr>\n",
       "      <th>4</th>\n",
       "      <td>✅ Trip Verified |   Travelling first class on ...</td>\n",
       "    </tr>\n",
       "  </tbody>\n",
       "</table>\n",
       "</div>"
      ],
      "text/plain": [
       "                                             reviews\n",
       "0  Not Verified |  With Newark Airport experienci...\n",
       "1  Not Verified |  Absolutely unacceptable experi...\n",
       "2  Not Verified |  First delay happened in Arkans...\n",
       "3  ✅ Trip Verified |   I was desperate to get to ...\n",
       "4  ✅ Trip Verified |   Travelling first class on ..."
      ]
     },
     "execution_count": 4,
     "metadata": {},
     "output_type": "execute_result"
    }
   ],
   "source": [
    "df = pd.DataFrame()\n",
    "df['reviews'] = reviews\n",
    "df.head()"
   ]
  },
  {
   "cell_type": "code",
   "execution_count": 5,
   "id": "0636ed3c-1eb1-4ad8-9065-32d3e50f812d",
   "metadata": {},
   "outputs": [],
   "source": [
    "df.to_csv('AA_reviews.csv')"
   ]
  },
  {
   "cell_type": "code",
   "execution_count": null,
   "id": "55584886-ad67-4e63-b35e-4860328e37c5",
   "metadata": {},
   "outputs": [],
   "source": []
  }
 ],
 "metadata": {
  "kernelspec": {
   "display_name": "Python 3 (ipykernel)",
   "language": "python",
   "name": "python3"
  },
  "language_info": {
   "codemirror_mode": {
    "name": "ipython",
    "version": 3
   },
   "file_extension": ".py",
   "mimetype": "text/x-python",
   "name": "python",
   "nbconvert_exporter": "python",
   "pygments_lexer": "ipython3",
   "version": "3.12.7"
  }
 },
 "nbformat": 4,
 "nbformat_minor": 5
}
